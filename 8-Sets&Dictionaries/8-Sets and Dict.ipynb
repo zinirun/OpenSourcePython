{
 "cells": [
  {
   "cell_type": "markdown",
   "metadata": {
    "ExecuteTime": {
     "end_time": "2020-05-09T09:18:43.952784Z",
     "start_time": "2020-05-09T09:18:43.946799Z"
    }
   },
   "source": [
    "<b>Problem 1"
   ]
  },
  {
   "cell_type": "code",
   "execution_count": 2,
   "metadata": {
    "ExecuteTime": {
     "end_time": "2020-05-09T09:39:52.308960Z",
     "start_time": "2020-05-09T09:39:52.299983Z"
    }
   },
   "outputs": [
    {
     "name": "stdout",
     "output_type": "stream",
     "text": [
      "(1, 8)\n",
      "(12, 5)\n",
      "(16, 5)\n",
      "(4, 9)\n",
      "(5, 5)\n",
      "(11, 5)\n",
      "(9, 3)\n",
      "(15, 4)\n",
      "(8, 4)\n",
      "(20, 6)\n",
      "(10, 7)\n",
      "(3, 2)\n",
      "(2, 5)\n",
      "(14, 5)\n",
      "(7, 7)\n",
      "(6, 2)\n",
      "(17, 6)\n",
      "(13, 6)\n",
      "(18, 3)\n",
      "(19, 3)\n"
     ]
    }
   ],
   "source": [
    "import random\n",
    "\n",
    "def countNum():    \n",
    "    nums = dict()\n",
    "    for i in range(100):\n",
    "        num = random.randint(1,20)\n",
    "        if num in nums:\n",
    "            nums[num] = nums[num] + 1\n",
    "        else:\n",
    "            nums[num] = 1\n",
    "    \n",
    "    for i in nums.items():\n",
    "        print(i)\n",
    "countNum()"
   ]
  },
  {
   "cell_type": "markdown",
   "metadata": {},
   "source": [
    "<b>Problem 2"
   ]
  },
  {
   "cell_type": "code",
   "execution_count": 4,
   "metadata": {
    "ExecuteTime": {
     "end_time": "2020-05-09T10:03:01.124241Z",
     "start_time": "2020-05-09T10:03:01.109126Z"
    }
   },
   "outputs": [
    {
     "name": "stdout",
     "output_type": "stream",
     "text": [
      "2\n",
      "2\n"
     ]
    }
   ],
   "source": [
    "def count_values_1(dic):\n",
    "    vs = dic.values()\n",
    "    vs = list(vs)\n",
    "    count = dict()\n",
    "    \n",
    "    for i in vs:\n",
    "        if i in count:\n",
    "            count[i] = count[i] + 1\n",
    "        else:\n",
    "            count[i] = 1\n",
    "      \n",
    "    return len(count)    \n",
    "    \n",
    "def count_values_2(dic):\n",
    "    vs = dic.values()\n",
    "    vs = set(vs)\n",
    "    \n",
    "    return len(vs)\n",
    "\n",
    "temp = {'red' : 1, 'green' : 1, 'blue' : 2}\n",
    "print(count_values_1(temp))\n",
    "print(count_values_2(temp))"
   ]
  },
  {
   "cell_type": "markdown",
   "metadata": {
    "ExecuteTime": {
     "end_time": "2020-05-09T09:50:52.088023Z",
     "start_time": "2020-05-09T09:50:52.078014Z"
    }
   },
   "source": [
    "<b>Problem 3"
   ]
  },
  {
   "cell_type": "code",
   "execution_count": 5,
   "metadata": {
    "ExecuteTime": {
     "end_time": "2020-05-09T11:21:13.011546Z",
     "start_time": "2020-05-09T11:21:12.988007Z"
    }
   },
   "outputs": [
    {
     "name": "stdout",
     "output_type": "stream",
     "text": [
      "{0: 1, 6: 3}\n",
      "{0: -1, 6: -3}\n",
      "{6: 6, 0: 1, 1: 2}\n",
      "{6: 0, 0: 1, 1: -2}\n"
     ]
    }
   ],
   "source": [
    "def normal_to_sparse(vec):\n",
    "    sps = dict()\n",
    "    \n",
    "    for i in range(0, len(vec)):\n",
    "        if vec[i] == 0 : continue\n",
    "        else:\n",
    "            sps[i] = vec[i]\n",
    "    \n",
    "    return sps\n",
    "\n",
    "def change_sign(dic):\n",
    "    keys = dic.keys()\n",
    "    for i in keys:\n",
    "        dic[i] = -dic[i]\n",
    "    return dic\n",
    "\n",
    "def add_vector(dic1, dic2):\n",
    "    rdic = dict()\n",
    "    for i in dic1.keys():\n",
    "        for j in dic2.keys():\n",
    "            if(i == j):\n",
    "                rdic[i] = dic1[i] + dic2[i]\n",
    "    for i in dic1.keys():\n",
    "        if i not in rdic:\n",
    "            rdic[i] = dic1[i]\n",
    "    for i in dic2.keys():\n",
    "        if i not in rdic:\n",
    "            rdic[i] = dic2[i]\n",
    "    return rdic\n",
    "\n",
    "def minus_vector(dic1, dic2):\n",
    "    return add_vector(dic1, change_sign(dic2))\n",
    "    \n",
    "    \n",
    "\n",
    "vec = [1,0,0,0,0,0,3,0,0,0]\n",
    "print(normal_to_sparse(vec))\n",
    "print(change_sign(normal_to_sparse(vec)))\n",
    "print(add_vector({0:1, 6:3}, {1:2, 6:3}))\n",
    "print(minus_vector({0:1, 6:3}, {1:2, 6:3}))"
   ]
  }
 ],
 "metadata": {
  "hide_input": false,
  "kernelspec": {
   "display_name": "Python 3",
   "language": "python",
   "name": "python3"
  },
  "language_info": {
   "codemirror_mode": {
    "name": "ipython",
    "version": 3
   },
   "file_extension": ".py",
   "mimetype": "text/x-python",
   "name": "python",
   "nbconvert_exporter": "python",
   "pygments_lexer": "ipython3",
   "version": "3.7.6"
  },
  "toc": {
   "base_numbering": 1,
   "nav_menu": {},
   "number_sections": true,
   "sideBar": true,
   "skip_h1_title": false,
   "title_cell": "Table of Contents",
   "title_sidebar": "Contents",
   "toc_cell": false,
   "toc_position": {},
   "toc_section_display": true,
   "toc_window_display": false
  },
  "varInspector": {
   "cols": {
    "lenName": 16,
    "lenType": 16,
    "lenVar": 40
   },
   "kernels_config": {
    "python": {
     "delete_cmd_postfix": "",
     "delete_cmd_prefix": "del ",
     "library": "var_list.py",
     "varRefreshCmd": "print(var_dic_list())"
    },
    "r": {
     "delete_cmd_postfix": ") ",
     "delete_cmd_prefix": "rm(",
     "library": "var_list.r",
     "varRefreshCmd": "cat(var_dic_list()) "
    }
   },
   "types_to_exclude": [
    "module",
    "function",
    "builtin_function_or_method",
    "instance",
    "_Feature"
   ],
   "window_display": false
  }
 },
 "nbformat": 4,
 "nbformat_minor": 4
}
