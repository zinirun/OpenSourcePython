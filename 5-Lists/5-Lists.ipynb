{
 "cells": [
  {
   "cell_type": "markdown",
   "metadata": {},
   "source": [
    "<h2>Problem 1\n",
    "    <h4>Get polygon's area"
   ]
  },
  {
   "cell_type": "code",
   "execution_count": 1,
   "metadata": {},
   "outputs": [],
   "source": [
    "import numpy as np\n",
    "\n",
    "def PolyArea(x,y):\n",
    "    xy_ = np.dot(x, np.roll(y,1)) - np.dot(y,np.roll(x,1))\n",
    "    area = 0.5 * np.abs(xy_)\n",
    "    return area"
   ]
  },
  {
   "cell_type": "code",
   "execution_count": 3,
   "metadata": {},
   "outputs": [
    {
     "name": "stdout",
     "output_type": "stream",
     "text": [
      "0.28510425794475935\n"
     ]
    }
   ],
   "source": [
    "x = np.arange(0, 1+0.01, 0.01)\n",
    "y = np.sqrt(1 - x**2)\n",
    "\n",
    "print(PolyArea(x,y))"
   ]
  },
  {
   "cell_type": "markdown",
   "metadata": {},
   "source": [
    "<h2>Problem 2\n",
    "    <h4>get points of f(x) = x, g(x) = x^2"
   ]
  },
  {
   "cell_type": "code",
   "execution_count": 5,
   "metadata": {},
   "outputs": [],
   "source": [
    "import numpy as np\n",
    "\n",
    "def f(x):\n",
    "    return x\n",
    "\n",
    "def g(x):\n",
    "    return x**2"
   ]
  },
  {
   "cell_type": "code",
   "execution_count": 22,
   "metadata": {},
   "outputs": [
    {
     "name": "stdout",
     "output_type": "stream",
     "text": [
      "N: 400\n",
      "E: 0.01\n"
     ]
    }
   ],
   "source": [
    "N = int(input(\"N: \"))\n",
    "E = float(input(\"E: \"))\n",
    "\n",
    "interval = 8 / N # -4 ~ 4를 N 구간으로 divide\n",
    "x = np.arange(-4, 4+interval, interval) # x의 범위: -4~4"
   ]
  },
  {
   "cell_type": "code",
   "execution_count": 45,
   "metadata": {},
   "outputs": [],
   "source": [
    "point = [] # E 범위에 만족하는 point가 저장될 list\n",
    "\n",
    "def CalcPoint(x):\n",
    "    for _ in x:\n",
    "        val = f(_) - g(_)\n",
    "        if(np.abs(val) < E):\n",
    "            point.append(_)\n",
    "    return"
   ]
  },
  {
   "cell_type": "code",
   "execution_count": 46,
   "metadata": {},
   "outputs": [
    {
     "name": "stdout",
     "output_type": "stream",
     "text": [
      "오차에 만족하는 근삿값: [3.552713678800501e-15, 1.0000000000000044]\n"
     ]
    }
   ],
   "source": [
    "CalcPoint(x)\n",
    "print(\"오차에 만족하는 근삿값:\",point)"
   ]
  },
  {
   "cell_type": "markdown",
   "metadata": {},
   "source": [
    "<h2>Problem 3\n",
    "    <h4>PI Scheme - Leibniz vs Euler"
   ]
  },
  {
   "cell_type": "code",
   "execution_count": 165,
   "metadata": {},
   "outputs": [],
   "source": [
    "def LeibnizPI(n):\n",
    "    sum = 0.0\n",
    "    for k in range(n):\n",
    "        sum += 1 / ((4*k + 1) * (4*k + 3))\n",
    "    return 8 * sum\n",
    "\n",
    "def EulerPI(n):\n",
    "    sum = 0.0\n",
    "    for k in range(1,n):\n",
    "        sum += 1 / (k ** 2)\n",
    "    return (6 * sum) ** 0.5"
   ]
  },
  {
   "cell_type": "code",
   "execution_count": 166,
   "metadata": {},
   "outputs": [
    {
     "name": "stdout",
     "output_type": "stream",
     "text": [
      "iterations(N): 100\n",
      "Leibniz: 3.1365926848388144\n",
      "Euler:   3.1319807472443624\n"
     ]
    }
   ],
   "source": [
    "N = int(input(\"iterations(N): \"))\n",
    "print(\"Leibniz:\",LeibnizPI(N))\n",
    "print(\"Euler:  \",EulerPI(N))"
   ]
  },
  {
   "cell_type": "code",
   "execution_count": 221,
   "metadata": {},
   "outputs": [
    {
     "data": {
      "image/png": "[encoded data removed]",
      "text/plain": [
       "<Figure size 432x288 with 1 Axes>"
      ]
     },
     "metadata": {
      "needs_background": "light"
     },
     "output_type": "display_data"
    }
   ],
   "source": [
    "import pylab as plt\n",
    "\n",
    "LeibnizResult = []; EulerResult = []\n",
    "\n",
    "for k in range(1,N+1):\n",
    "    LeibnizResult.append(LeibnizPI(k))\n",
    "    EulerResult.append(EulerPI(k))\n",
    "\n",
    "plt.plot(t, LeibnizResult, 'r')\n",
    "plt.plot(t, EulerResult, 'g')\n",
    "plt.xlabel('iterations(N)'); plt.ylabel('acc - pi')\n",
    "plt.ylim(3.05, 3.15)\n",
    "plt.legend(['Leibniz','Euler'])\n",
    "plt.show()"
   ]
  }
 ],
 "metadata": {
  "hide_input": false,
  "kernelspec": {
   "display_name": "Python 3",
   "language": "python",
   "name": "python3"
  },
  "language_info": {
   "codemirror_mode": {
    "name": "ipython",
    "version": 3
   },
   "file_extension": ".py",
   "mimetype": "text/x-python",
   "name": "python",
   "nbconvert_exporter": "python",
   "pygments_lexer": "ipython3",
   "version": "3.7.6"
  }
 },
 "nbformat": 4,
 "nbformat_minor": 4
}
