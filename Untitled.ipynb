{
 "cells": [
  {
   "cell_type": "code",
   "execution_count": 2,
   "metadata": {},
   "outputs": [
    {
     "name": "stdout",
     "output_type": "stream",
     "text": [
      "[4, -3]\n"
     ]
    }
   ],
   "source": [
    "def dup(lst):\n",
    "    dup_ed=[]\n",
    "    \n",
    "    for i in lst:\n",
    "        cnt = 0\n",
    "        for j in lst:\n",
    "            if (i==j):\n",
    "                cnt=cnt+1\n",
    "        if(cnt > 1):\n",
    "            dup_ed.append(i)\n",
    "    \n",
    "    return list(set(dup_ed))\n",
    "        \n",
    "input = [10, 9, 8, 7,6, 5, 4, 3, -3, -3, 4, 4]\n",
    "print(dup(input))"
   ]
  },
  {
   "cell_type": "code",
   "execution_count": null,
   "metadata": {},
   "outputs": [],
   "source": []
  }
 ],
 "metadata": {
  "hide_input": false,
  "kernelspec": {
   "display_name": "Python 3",
   "language": "python",
   "name": "python3"
  },
  "language_info": {
   "codemirror_mode": {
    "name": "ipython",
    "version": 3
   },
   "file_extension": ".py",
   "mimetype": "text/x-python",
   "name": "python",
   "nbconvert_exporter": "python",
   "pygments_lexer": "ipython3",
   "version": "3.7.6"
  }
 },
 "nbformat": 4,
 "nbformat_minor": 4
}
