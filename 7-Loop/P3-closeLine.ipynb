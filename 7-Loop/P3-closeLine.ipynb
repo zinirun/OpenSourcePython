{
 "cells": [
  {
   "cell_type": "markdown",
   "metadata": {},
   "source": [
    "<h2>Problem 3\n",
    "    <h4>write a program that fits a straight line to data -> f(x) = ax + b"
   ]
  },
  {
   "cell_type": "code",
   "execution_count": 1,
   "metadata": {},
   "outputs": [
    {
     "name": "stdout",
     "output_type": "stream",
     "text": [
      "[[1, 2.0], [4, 7.5], [0, 0.5], [3, 1.5], [2, 1.0]]\n"
     ]
    }
   ],
   "source": [
    "D = {(0, 0.5),(1, 2.0),(2,1.0),(3,1.5),(4,7.5)} # init data (x,y)\n",
    "D = list(D) # change set to list\n",
    "for _ in range(0,5): # also change inner\n",
    "    D[_] = list(D[_])\n",
    "print(D)"
   ]
  },
  {
   "cell_type": "code",
   "execution_count": 2,
   "metadata": {},
   "outputs": [],
   "source": [
    "def compute_error(a, b):\n",
    "    e = 0\n",
    "    for _ in range(0,5):\n",
    "        e += (a * D[_][0] + b - D[_][1]) ** 2 # e = SIGMA(i=1~5) ax + b - y\n",
    "    return e"
   ]
  },
  {
   "cell_type": "code",
   "execution_count": 12,
   "metadata": {},
   "outputs": [
    {
     "name": "stdout",
     "output_type": "stream",
     "text": [
      "10.0 %\n",
      "20.0 %\n",
      "30.0 %\n",
      "40.0 %\n",
      "50.0 %\n",
      "60.0 %\n",
      "70.0 %\n",
      "80.0 %\n",
      "90.0 %\n",
      "100.0 %\n",
      "16.75\n"
     ]
    }
   ],
   "source": [
    "# a: 양수, b: 음수 (1, 3사분면 지남)\n",
    "\n",
    "min = compute_error(1, -1) # error 초기 최소값\n",
    "min_ab = [0, 0] # 최소값일 경우의 a, b\n",
    "\n",
    "iter = 0.1 # 가중치 설정\n",
    "\n",
    "for i in range(0, 1000, 1):\n",
    "    \n",
    "    if i % 100 == 0:\n",
    "        print((i+100)/10,\"%\")\n",
    "        \n",
    "    for j in range(-1000, 1):\n",
    "        E = compute_error(i*iter, j*iter)\n",
    "        if E < min:\n",
    "            min = E; min_ab[0] = i; min_ab[1] = j\n",
    "\n",
    "print(min)"
   ]
  },
  {
   "cell_type": "code",
   "execution_count": null,
   "metadata": {},
   "outputs": [],
   "source": []
  }
 ],
 "metadata": {
  "hide_input": false,
  "kernelspec": {
   "display_name": "Python 3",
   "language": "python",
   "name": "python3"
  },
  "language_info": {
   "codemirror_mode": {
    "name": "ipython",
    "version": 3
   },
   "file_extension": ".py",
   "mimetype": "text/x-python",
   "name": "python",
   "nbconvert_exporter": "python",
   "pygments_lexer": "ipython3",
   "version": "3.7.6"
  }
 },
 "nbformat": 4,
 "nbformat_minor": 4
}
