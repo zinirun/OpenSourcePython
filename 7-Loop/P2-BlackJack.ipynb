{
 "cells": [
  {
   "cell_type": "markdown",
   "metadata": {},
   "source": [
    "<h2>Problem 2\n",
    "    <h4>Black Jack"
   ]
  },
  {
   "cell_type": "code",
   "execution_count": 1,
   "metadata": {},
   "outputs": [],
   "source": [
    "import numpy as np\n",
    "\n",
    "def GetCard():\n",
    "    '''generate rand num 0~10'''\n",
    "    return np.random.randint(0,10)"
   ]
  },
  {
   "cell_type": "code",
   "execution_count": 2,
   "metadata": {},
   "outputs": [],
   "source": [
    "def BlackJack():\n",
    "    '''BlackJack - Make number closet to 21'''\n",
    "    USER = 0\n",
    "    BOT = 0\n",
    "    KEEP = 0\n",
    "    while KEEP == 0:\n",
    "        USER += GetCard()\n",
    "        BOTCARD = GetCard()\n",
    "        \n",
    "        if BOT + BOTCARD <= 21:\n",
    "            BOT += BOTCARD\n",
    "            \n",
    "        if USER > 21:\n",
    "            print(USER,'was over than 21.. You lose')\n",
    "            break\n",
    "            \n",
    "        print('Your sum: ',USER)\n",
    "        print('0: Draw, 1: Not')\n",
    "        KEEP = int(input()) # User's decision: Keep getting card\n",
    "        \n",
    "    if USER > BOT and USER <= 21:\n",
    "        if USER == 21:\n",
    "            print(\"BLACKJACK! YOU WIN!\")\n",
    "        else:\n",
    "            print(\"YOU WIN! - YOU:\", USER, \"BOT:\", BOT)\n",
    "    elif USER == BOT and USER <= 21:\n",
    "        print(\"DRAW!\")\n",
    "    else:\n",
    "        print(\"You lose.. - YOU:\", USER, \"BOT:\", BOT)"
   ]
  },
  {
   "cell_type": "code",
   "execution_count": 3,
   "metadata": {},
   "outputs": [
    {
     "name": "stdout",
     "output_type": "stream",
     "text": [
      "Your sum:  3\n",
      "0: Draw, 1: Not\n",
      "0\n",
      "Your sum:  11\n",
      "0: Draw, 1: Not\n",
      "0\n",
      "Your sum:  15\n",
      "0: Draw, 1: Not\n",
      "0\n",
      "24 was over than 21.. You lose\n",
      "You lose.. - YOU: 24 BOT: 16\n"
     ]
    }
   ],
   "source": [
    "BlackJack()"
   ]
  },
  {
   "cell_type": "code",
   "execution_count": null,
   "metadata": {},
   "outputs": [],
   "source": []
  }
 ],
 "metadata": {
  "hide_input": false,
  "kernelspec": {
   "display_name": "Python 3",
   "language": "python",
   "name": "python3"
  },
  "language_info": {
   "codemirror_mode": {
    "name": "ipython",
    "version": 3
   },
   "file_extension": ".py",
   "mimetype": "text/x-python",
   "name": "python",
   "nbconvert_exporter": "python",
   "pygments_lexer": "ipython3",
   "version": "3.7.6"
  }
 },
 "nbformat": 4,
 "nbformat_minor": 4
}
