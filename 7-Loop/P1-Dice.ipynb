{
 "cells": [
  {
   "cell_type": "markdown",
   "metadata": {},
   "source": [
    "<h2>Problem 1\n",
    "    <h4>Make random integers - Dice function"
   ]
  },
  {
   "cell_type": "code",
   "execution_count": 1,
   "metadata": {},
   "outputs": [],
   "source": [
    "import numpy as np\n",
    "\n",
    "def Dice(N):\n",
    "    num = []\n",
    "    \n",
    "    for _ in range(N):\n",
    "        num.append(np.random.randint(1, 7))\n",
    "        \n",
    "    return num"
   ]
  },
  {
   "cell_type": "code",
   "execution_count": 50,
   "metadata": {},
   "outputs": [
    {
     "name": "stdout",
     "output_type": "stream",
     "text": [
      "[[10, [2, 0, 1, 3, 4, 0]], [20, [5, 5, 2, 2, 5, 1]], [30, [5, 1, 11, 4, 4, 5]], [40, [8, 9, 7, 6, 8, 2]], [50, [13, 5, 8, 3, 8, 13]], [60, [5, 11, 13, 8, 14, 9]], [70, [11, 13, 12, 14, 11, 9]], [80, [13, 13, 17, 17, 10, 10]], [90, [15, 19, 16, 18, 15, 7]], [100, [17, 17, 12, 21, 19, 14]]]\n",
      "[2, 0, 1, 3, 4, 0]\n",
      "[[10, [0.2, 0.0, 0.1, 0.3, 0.4, 0.0]], [20, [0.25, 0.25, 0.1, 0.1, 0.25, 0.05]], [30, [0.167, 0.033, 0.367, 0.133, 0.133, 0.167]], [40, [0.2, 0.225, 0.175, 0.15, 0.2, 0.05]], [50, [0.26, 0.1, 0.16, 0.06, 0.16, 0.26]], [60, [0.083, 0.183, 0.217, 0.133, 0.233, 0.15]], [70, [0.157, 0.186, 0.171, 0.2, 0.157, 0.129]], [80, [0.163, 0.163, 0.212, 0.212, 0.125, 0.125]], [90, [0.167, 0.211, 0.178, 0.2, 0.167, 0.078]], [100, [0.17, 0.17, 0.12, 0.21, 0.19, 0.14]]]\n"
     ]
    }
   ],
   "source": [
    "result = [] # Dice 결과 저장\n",
    "\n",
    "for _ in range(10, 100+10, 10): # 10~100까지 10 증가해서 결과 저장\n",
    "    result.append(Dice(_))\n",
    "\n",
    "cnt = []\n",
    "\n",
    "for i in range(0, 10, 1): # Dice 개수(10개+)마다 1~6 경우의 개수 각각 저장\n",
    "    tmp = [0, 0, 0, 0, 0, 0]\n",
    "    for j in range(0, len(result[i]), 1):\n",
    "        for k in range(1, 7, 1):\n",
    "            if result[i][j] == k:\n",
    "                tmp[k-1] += 1\n",
    "    cnt.append([(i+1)*10, tmp])\n",
    "\n",
    "print(cnt)\n",
    "print(cnt[0][1])\n",
    "\n",
    "freq = [] # 주사위 던지는 횟수에 따른 1~6 빈도수를 저장할 배열\n",
    "\n",
    "for i in range(0, 10, 1):\n",
    "    tmp = []\n",
    "    for j in cnt[i][1]:\n",
    "        tmp.append(round(j/((i+1)*10),3))\n",
    "    freq.append([(i+1)*10, tmp])\n",
    "    \n",
    "print(freq)"
   ]
  },
  {
   "cell_type": "code",
   "execution_count": 80,
   "metadata": {},
   "outputs": [
    {
     "data": {
      "image/png": "[encoded data removed]",
      "text/plain": [
       "<Figure size 432x288 with 1 Axes>"
      ]
     },
     "metadata": {
      "needs_background": "light"
     },
     "output_type": "display_data"
    }
   ],
   "source": [
    "import pylab as plt\n",
    "\n",
    "x = range(1, 7)\n",
    "W = cnt[0][1]\n",
    "plt.bar(x, W)\n",
    "plt.title(\"Dice - 10 Times\")\n",
    "plt.show()"
   ]
  },
  {
   "cell_type": "code",
   "execution_count": 81,
   "metadata": {},
   "outputs": [
    {
     "data": {
      "image/png": "[encoded data removed]",
      "text/plain": [
       "<Figure size 432x288 with 1 Axes>"
      ]
     },
     "metadata": {
      "needs_background": "light"
     },
     "output_type": "display_data"
    }
   ],
   "source": [
    "W = cnt[4][1]\n",
    "plt.bar(x, W)\n",
    "plt.title(\"Dice - 50 Times\")\n",
    "plt.show()"
   ]
  },
  {
   "cell_type": "code",
   "execution_count": 82,
   "metadata": {},
   "outputs": [
    {
     "data": {
      "image/png": "[encoded data removed]",
      "text/plain": [
       "<Figure size 432x288 with 1 Axes>"
      ]
     },
     "metadata": {
      "needs_background": "light"
     },
     "output_type": "display_data"
    }
   ],
   "source": [
    "W = cnt[9][1]\n",
    "plt.bar(x, W)\n",
    "plt.title(\"Dice - 100 Times\")\n",
    "plt.show()"
   ]
  }
 ],
 "metadata": {
  "hide_input": false,
  "kernelspec": {
   "display_name": "Python 3",
   "language": "python",
   "name": "python3"
  },
  "language_info": {
   "codemirror_mode": {
    "name": "ipython",
    "version": 3
   },
   "file_extension": ".py",
   "mimetype": "text/x-python",
   "name": "python",
   "nbconvert_exporter": "python",
   "pygments_lexer": "ipython3",
   "version": "3.7.6"
  }
 },
 "nbformat": 4,
 "nbformat_minor": 4
}
