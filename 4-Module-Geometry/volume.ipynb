{
 "cells": [
  {
   "cell_type": "code",
   "execution_count": 2,
   "metadata": {},
   "outputs": [],
   "source": [
    "from math import pi\n",
    "def sphere(r):\n",
    "    '''get volume of sphere with r'''\n",
    "    return 4 * pi * r ** 3 / 3"
   ]
  },
  {
   "cell_type": "code",
   "execution_count": 3,
   "metadata": {},
   "outputs": [],
   "source": [
    "def rectangular_box(a,b,c):\n",
    "    '''get volume of rectangular_box with r'''\n",
    "    return a * b * c"
   ]
  },
  {
   "cell_type": "code",
   "execution_count": 4,
   "metadata": {},
   "outputs": [],
   "source": [
    "def right_circular_cone(r, h):\n",
    "    '''get volume of right_circular_cone with r, h'''\n",
    "    return (1/3) * pi * r ** 2 * h"
   ]
  },
  {
   "cell_type": "code",
   "execution_count": 6,
   "metadata": {},
   "outputs": [],
   "source": [
    "def cube(l):\n",
    "    '''get volume of cube with l'''\n",
    "    return l ** 3"
   ]
  },
  {
   "cell_type": "code",
   "execution_count": 7,
   "metadata": {},
   "outputs": [],
   "source": [
    "def cylinder(r, h):\n",
    "    '''get volume of cylinder with r, h'''\n",
    "    return pi * r ** 2 * h"
   ]
  },
  {
   "cell_type": "code",
   "execution_count": 8,
   "metadata": {},
   "outputs": [],
   "source": [
    "def frustum_of_a_cone(r, R, h):\n",
    "    '''get volume of frustum of a cone with r, R, h'''\n",
    "    return (1/3) * pi * h * (r**2 + r*R + R**2)"
   ]
  }
 ],
 "metadata": {
  "hide_input": false,
  "kernelspec": {
   "display_name": "Python 3",
   "language": "python",
   "name": "python3"
  },
  "language_info": {
   "codemirror_mode": {
    "name": "ipython",
    "version": 3
   },
   "file_extension": ".py",
   "mimetype": "text/x-python",
   "name": "python",
   "nbconvert_exporter": "python",
   "pygments_lexer": "ipython3",
   "version": "3.7.6"
  }
 },
 "nbformat": 4,
 "nbformat_minor": 4
}
