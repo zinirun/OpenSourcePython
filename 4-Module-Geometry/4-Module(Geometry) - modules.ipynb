{
 "cells": [
  {
   "cell_type": "markdown",
   "metadata": {},
   "source": [
    "<h2>4. Module(Geometry) - Area.py"
   ]
  },
  {
   "cell_type": "code",
   "execution_count": null,
   "metadata": {},
   "outputs": [],
   "source": [
    "def square(s):\n",
    "    \"\"\"get A of square with s\"\"\"\n",
    "    A = s**2\n",
    "    return A\n",
    "\n",
    "\n",
    "def rectangle(a,b):\n",
    "    \"\"\"get A of rectangle with s\"\"\"\n",
    "    A = a*b\n",
    "    return A\n",
    "\n",
    "from math import pi\n",
    "\n",
    "def circle(r):\n",
    "    \"\"\"get A of circle with r\"\"\"\n",
    "    A = pi * r**2\n",
    "    return A\n",
    "\n",
    "\n",
    "def triangle(b,h):\n",
    "    \"\"\"get A of triangle with b, h\"\"\"\n",
    "    A = 0.5*b*h\n",
    "    return A\n",
    "\n",
    "\n",
    "def parallelogram(b,h):\n",
    "    \"\"\"get A of parallelogram with b,h\"\"\"\n",
    "    A = b*h\n",
    "    return A\n",
    "\n",
    "def circular_sector(r,c):\n",
    "    \"\"\"get A of circular_sector with r,c\"\"\"\n",
    "    A = pi * (r**2) * (c/360)\n",
    "    return A\n",
    "\n",
    "\n",
    "from math import pi\n",
    "\n",
    "def circle_ring(R,r):\n",
    "    \"\"\"get A of circle_ring with R,r\"\"\"\n",
    "    A = pi * (R**2 - r**2)\n",
    "    return A\n",
    "\n",
    "\n",
    "def trapezoid(h,a,b):\n",
    "    \"\"\"get A of trapezoid with h,a,b\"\"\"\n",
    "    A = h * (a+b) / 2\n",
    "    return A\n",
    "\n",
    "\n",
    "def rectangular_box(a,b,c):\n",
    "    \"\"\"get A of rectangular_box with a,b,c\"\"\"\n",
    "    A = 2*a*b + 2*b*c + 2*a*c\n",
    "    return A\n",
    "\n",
    "\n",
    "def cube(l):\n",
    "    \"\"\"get A of cube with l\"\"\"\n",
    "    A=6 * (l**2)\n",
    "    return A\n",
    "\n",
    "\n",
    "from math import pi\n",
    "\n",
    "def cylinder(r,h):\n",
    "    \"\"\"get A of cylinder with r,h\"\"\"\n",
    "    A = 2 * pi * r * (r+h)\n",
    "    return A\n",
    "\n",
    "\n",
    "from math import pi\n",
    "\n",
    "def right_circular_cone(r,s):\n",
    "    \"\"\"get A of right_circular_cone with r,s\"\"\"\n",
    "    A = pi * (r**2) + math.pi * r * s\n",
    "    return A\n",
    "\n",
    "\n",
    "from math import pi\n",
    "\n",
    "def sphere(r):\n",
    "    \"\"\"get S of sphere with r\"\"\"\n",
    "    S = 4 * pi * (r**2)\n",
    "    return S"
   ]
  },
  {
   "cell_type": "markdown",
   "metadata": {},
   "source": [
    "<h2>4. Module(Geometry) - busbar.py"
   ]
  },
  {
   "cell_type": "code",
   "execution_count": null,
   "metadata": {},
   "outputs": [],
   "source": [
    "from math import sqrt\n",
    "\n",
    "def right_circular_cone(r,h):\n",
    "    \"\"\"get s of right_circular_cone with r,h\"\"\"\n",
    "    s = sqrt((r**2) + (h**2))\n",
    "    return s"
   ]
  },
  {
   "cell_type": "markdown",
   "metadata": {},
   "source": [
    "<h2>4. Module(Geometry) - perimeter.py"
   ]
  },
  {
   "cell_type": "code",
   "execution_count": null,
   "metadata": {},
   "outputs": [],
   "source": [
    "def square(s):\n",
    "    '''get P of square with s'''\n",
    "    return 4*s\n",
    "\n",
    "\n",
    "def parallelogram(a, b):\n",
    "    '''get P of parrallelogram with a, b'''\n",
    "    return 2*a + 2*b\n",
    "\n",
    "\n",
    "from math import pi\n",
    "\n",
    "def circle(r):\n",
    "    '''get P of circle with r'''\n",
    "    return 2*pi*r\n",
    "\n",
    "\n",
    "def triangle(a, b, c):\n",
    "    '''get P of triangle with a,b,c'''\n",
    "    return a+b+c\n",
    "\n",
    "\n",
    "def rectangle(a,b):\n",
    "    '''get P of rentangle with a,b'''\n",
    "    return 2*(a+b)\n",
    "\n",
    "\n",
    "def trapezoid(a, b, c, d):\n",
    "    '''get P of trapezoid with a,b,c,d'''\n",
    "    return a+b+c+d;\n",
    "\n",
    "\n",
    "def circular_sector(r, seta):\n",
    "    '''get P(length) of circular sector with r, seta'''\n",
    "    return r * seta"
   ]
  },
  {
   "cell_type": "markdown",
   "metadata": {},
   "source": [
    "<h2>4. Module(Geometry) - pythagorean.py"
   ]
  },
  {
   "cell_type": "code",
   "execution_count": null,
   "metadata": {},
   "outputs": [],
   "source": [
    "from math import sqrt\n",
    "\n",
    "def pythagorean_theorem(a,b):\n",
    "    \"\"\"get c of pythagorean_theorem with a,b\"\"\"\n",
    "    c = sqrt((a**2) + (b**2))\n",
    "    return c"
   ]
  },
  {
   "cell_type": "markdown",
   "metadata": {},
   "source": [
    "<h2>4. Module(Geometry) - volume.py"
   ]
  },
  {
   "cell_type": "code",
   "execution_count": null,
   "metadata": {},
   "outputs": [],
   "source": [
    "from math import pi\n",
    "\n",
    "def sphere(r):\n",
    "    '''get volume of sphere with r'''\n",
    "    return 4 * pi * r ** 3 / 3\n",
    "\n",
    "\n",
    "def rectangular_box(a,b,c):\n",
    "    '''get volume of rectangular_box with r'''\n",
    "    return a * b * c\n",
    "\n",
    "\n",
    "def right_circular_cone(r, h):\n",
    "    '''get volume of right_circular_cone with r, h'''\n",
    "    return (1/3) * pi * r ** 2 * h\n",
    "\n",
    "\n",
    "def cube(l):\n",
    "    '''get volume of cube with l'''\n",
    "    return l ** 3\n",
    "\n",
    "\n",
    "def cylinder(r, h):\n",
    "    '''get volume of cylinder with r, h'''\n",
    "    return pi * r ** 2 * h\n",
    "\n",
    "\n",
    "def frustum_of_a_cone(r, R, h):\n",
    "    '''get volume of frustum of a cone with r, R, h'''\n",
    "    return (1/3) * pi * h * (r**2 + r*R + R**2)"
   ]
  }
 ],
 "metadata": {
  "hide_input": false,
  "kernelspec": {
   "display_name": "Python 3",
   "language": "python",
   "name": "python3"
  },
  "language_info": {
   "codemirror_mode": {
    "name": "ipython",
    "version": 3
   },
   "file_extension": ".py",
   "mimetype": "text/x-python",
   "name": "python",
   "nbconvert_exporter": "python",
   "pygments_lexer": "ipython3",
   "version": "3.7.6"
  }
 },
 "nbformat": 4,
 "nbformat_minor": 4
}
