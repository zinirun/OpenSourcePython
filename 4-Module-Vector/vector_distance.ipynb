{
 "cells": [
  {
   "cell_type": "markdown",
   "metadata": {},
   "source": [
    "<h2>Problem 2 - vector distance"
   ]
  },
  {
   "cell_type": "code",
   "execution_count": 139,
   "metadata": {},
   "outputs": [
    {
     "name": "stdout",
     "output_type": "stream",
     "text": [
      "[9 7] [9 1]\n"
     ]
    }
   ],
   "source": [
    "import numpy as np\n",
    "\n",
    "u = np.random.randint(10)\n",
    "v = np.random.randint(10)\n",
    "\n",
    "vector1 = np.array([u,v]) # vector => u, v\n",
    "\n",
    "u = np.random.randint(10)\n",
    "v = np.random.randint(10)\n",
    "\n",
    "vector2 = np.array([u,v]) # vector => u, v\n",
    "\n",
    "print(vector1, vector2)"
   ]
  },
  {
   "cell_type": "markdown",
   "metadata": {},
   "source": [
    "<h3>Define functions"
   ]
  },
  {
   "cell_type": "code",
   "execution_count": 140,
   "metadata": {},
   "outputs": [],
   "source": [
    "def dist_euclid(v1, v2):\n",
    "    '''get Euclidean distance'''\n",
    "    return np.sqrt(np.sum((v1-v2)**2))"
   ]
  },
  {
   "cell_type": "code",
   "execution_count": 141,
   "metadata": {},
   "outputs": [],
   "source": [
    "def dist_cityblock(v1, v2):\n",
    "    '''get Manhattan distance'''\n",
    "    return np.sum(np.abs(v1-v2))"
   ]
  },
  {
   "cell_type": "code",
   "execution_count": 142,
   "metadata": {},
   "outputs": [],
   "source": [
    "def dist_hamming(v1, v2):\n",
    "    '''get Hamming distance'''\n",
    "    dist = 0\n",
    "    for i in range(len(v1)):\n",
    "        if(v1[i] != v2[i]):\n",
    "            dist += 1\n",
    "    return dist"
   ]
  },
  {
   "cell_type": "code",
   "execution_count": 143,
   "metadata": {},
   "outputs": [],
   "source": [
    "from numpy import dot\n",
    "from numpy.linalg import norm\n",
    "\n",
    "def dist_cosin(v1, v2):\n",
    "    '''get Cosin distance'''\n",
    "    return dot(v1, v2) / (norm(v1) * norm(v2))"
   ]
  },
  {
   "cell_type": "code",
   "execution_count": 144,
   "metadata": {},
   "outputs": [],
   "source": [
    "def dist_jaccard(v1, v2):\n",
    "    '''get Tanimoto distance'''\n",
    "    union = set(v1).union(set(v2))\n",
    "    intersection = set(v1).intersection(set(v2))\n",
    "    return len(intersection) / len(union)"
   ]
  },
  {
   "cell_type": "markdown",
   "metadata": {},
   "source": [
    "<h3>Test"
   ]
  },
  {
   "cell_type": "code",
   "execution_count": 145,
   "metadata": {},
   "outputs": [
    {
     "name": "stdout",
     "output_type": "stream",
     "text": [
      "6.0\n",
      "6\n",
      "1\n",
      "0.8523227286486657\n",
      "0.3333333333333333\n"
     ]
    }
   ],
   "source": [
    "print(dist_euclid(vector1, vector2))\n",
    "print(dist_cityblock(vector1, vector2))\n",
    "print(dist_hamming(vector1, vector2))\n",
    "print(dist_cosin(vector1, vector2))\n",
    "print(dist_jaccard(vector1, vector2))"
   ]
  }
 ],
 "metadata": {
  "hide_input": false,
  "kernelspec": {
   "display_name": "Python 3",
   "language": "python",
   "name": "python3"
  },
  "language_info": {
   "codemirror_mode": {
    "name": "ipython",
    "version": 3
   },
   "file_extension": ".py",
   "mimetype": "text/x-python",
   "name": "python",
   "nbconvert_exporter": "python",
   "pygments_lexer": "ipython3",
   "version": "3.7.6"
  }
 },
 "nbformat": 4,
 "nbformat_minor": 4
}
