{
 "cells": [
  {
   "cell_type": "markdown",
   "metadata": {},
   "source": [
    "<h3>Problem 5</h3><hr><h4>\n",
    "Design a class Msg that models an e-mail message. A message has a recipient, a sender,\n",
    "and a message text. Support the following methods:<br><br>\n",
    "• A constructor that takes the sender and recipient<br>\n",
    "• A method append that appends a line of text to the message body<br>\n",
    "• A method __str__ that returns the whole string like this:"
   ]
  },
  {
   "cell_type": "code",
   "execution_count": 5,
   "metadata": {},
   "outputs": [
    {
     "name": "stdout",
     "output_type": "stream",
     "text": [
      "From:Heo \n",
      "To: Hwang\n",
      "Content: Thank you for your service\n"
     ]
    }
   ],
   "source": [
    "class Msg:\n",
    "    msg_content = \"\"\n",
    "    def __init__(self, f, t):\n",
    "        self.msg_from = f\n",
    "        self.msg_to=t\n",
    "    \n",
    "    def writeMsg(self, c):\n",
    "        self.msg_content=c\n",
    "        \n",
    "    def __str__(self):\n",
    "        return \"From:%s \\nTo: %s\\nContent: %s\"%(self.msg_from, self.msg_to, self.msg_content)\n",
    "    \n",
    "new_msg = Msg(\"Heo\", \"Hwang\")\n",
    "new_msg.writeMsg(\"Thank you for your service\")\n",
    "print(str(new_msg))"
   ]
  }
 ],
 "metadata": {
  "hide_input": false,
  "kernelspec": {
   "display_name": "Python 3",
   "language": "python",
   "name": "python3"
  },
  "language_info": {
   "codemirror_mode": {
    "name": "ipython",
    "version": 3
   },
   "file_extension": ".py",
   "mimetype": "text/x-python",
   "name": "python",
   "nbconvert_exporter": "python",
   "pygments_lexer": "ipython3",
   "version": "3.7.6"
  }
 },
 "nbformat": 4,
 "nbformat_minor": 4
}
