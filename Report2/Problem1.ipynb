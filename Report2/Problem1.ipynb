{
 "cells": [
  {
   "cell_type": "code",
   "execution_count": 14,
   "metadata": {},
   "outputs": [
    {
     "name": "stdout",
     "output_type": "stream",
     "text": [
      "1 aagggtagtt cgggatcccg aggagcaccg acgaccctca acatcagact tgcgaagata\n",
      "61 gaaccgctct tcgcggatgc gagggggatg gctcagggcg ccattaagaa tttcgtggac\n",
      "121 gtggcggggg ggcggcggac gtctcccgcg tcgtccagaa cgtggagaag acgtagagta\n",
      "181 agaggtccga agtctggaca gagggagtaa gttttttata aataatagct cgagaatgaa\n",
      "241 cgatgggtcg tgactatatc cgtgagtcct tatgttgtta cttattctat catcttttta\n",
      "301 agatatagga gtattccgaa tgcaaaggta catgactttc gttacttgtt tatttagaat\n",
      "361 agtctcacta ttcccaacac ttcctctaat ttattctacc acactatatt tcatagaccc\n",
      "421 tcttttgcaa tcccacacta taatgccttt cggaaggatt ttttactgta aaattgacta\n",
      "481 ctcttctttc ctaggtcgac tctcgtttgc gttttcgaaa gaaggaaggt gggaagtata\n",
      "541 aactgtgtta cgtcctaagg aggttttact aaaggtggtt aagacgggag tgtcgagacc\n",
      "601 gaacgtctta aaaggtgggg ttttacaatc atagatgccg tggtccagcc gctcttagga\n",
      "661 ctgagacgtg ggaggagggg ttgaggtaaa ggaaacgaag gaggccgtcc gcctaatgaa\n",
      "721 cgggaatgaa cagtaccgct gacaggtcga aacacggtcc tcggagcgtc cccaactacc\n",
      "781 ctaaccccaa aaggggaggg tacacgagtt ctgaccgcga ttttcaaaac tcgaagagtt\n",
      "\n"
     ]
    }
   ],
   "source": [
    "def dna(old):\n",
    "    trans_table = str.maketrans('tagc','atcg') #지정한 문자를 특정 문자로 변환\n",
    "    new = old.translate(trans_table)\n",
    "    return new\n",
    "\n",
    "p53=\"\"\"1 ttcccatcaa gccctagggc tcctcgtggc tgctgggagt tgtagtctga acgcttctat\n",
    "61 cttggcgaga agcgcctacg ctccccctac cgagtcccgc ggtaattctt aaagcacctg\n",
    "121 caccgccccc ccgccgcctg cagagggcgc agcaggtctt gcacctcttc tgcatctcat\n",
    "181 tctccaggct tcagacctgt ctccctcatt caaaaaatat ttattatcga gctcttactt\n",
    "241 gctacccagc actgatatag gcactcagga atacaacaat gaataagata gtagaaaaat\n",
    "301 tctatatcct cataaggctt acgtttccat gtactgaaag caatgaacaa ataaatctta\n",
    "361 tcagagtgat aagggttgtg aaggagatta aataagatgg tgtgatataa agtatctggg\n",
    "421 agaaaacgtt agggtgtgat attacggaaa gccttcctaa aaaatgacat tttaactgat\n",
    "481 gagaagaaag gatccagctg agagcaaacg caaaagcttt cttccttcca cccttcatat\n",
    "541 ttgacacaat gcaggattcc tccaaaatga tttccaccaa ttctgccctc acagctctgg\n",
    "601 cttgcagaat tttccacccc aaaatgttag tatctacggc accaggtcgg cgagaatcct\n",
    "661 gactctgcac cctcctcccc aactccattt cctttgcttc ctccggcagg cggattactt\n",
    "721 gcccttactt gtcatggcga ctgtccagct ttgtgccagg agcctcgcag gggttgatgg\n",
    "781 gattggggtt ttcccctccc atgtgctcaa gactggcgct aaaagttttg agcttctcaa\n",
    "\"\"\"\n",
    "\n",
    "print(dna(p53))"
   ]
  }
 ],
 "metadata": {
  "hide_input": false,
  "kernelspec": {
   "display_name": "Python 3",
   "language": "python",
   "name": "python3"
  },
  "language_info": {
   "codemirror_mode": {
    "name": "ipython",
    "version": 3
   },
   "file_extension": ".py",
   "mimetype": "text/x-python",
   "name": "python",
   "nbconvert_exporter": "python",
   "pygments_lexer": "ipython3",
   "version": "3.7.6"
  }
 },
 "nbformat": 4,
 "nbformat_minor": 4
}
