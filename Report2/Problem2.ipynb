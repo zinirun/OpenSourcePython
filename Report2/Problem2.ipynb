{
 "cells": [
  {
   "cell_type": "code",
   "execution_count": 7,
   "metadata": {},
   "outputs": [
    {
     "name": "stdout",
     "output_type": "stream",
     "text": [
      "min : 1, idx : 7\n",
      "max : 10, idx : 6\n",
      "-----to short-----\n",
      "min : 1, idx : 7\n",
      "max : 10, idx : 6\n"
     ]
    }
   ],
   "source": [
    "def min_index(nums): #using loop to find min\n",
    "    min=nums[0]\n",
    "    min_idx=0\n",
    "    for i in range(0,len(nums)):\n",
    "        if(nums[i]<min):\n",
    "            min=nums[i]\n",
    "            min_idx=i\n",
    "    return min, min_idx\n",
    "\n",
    "def max_index(nums):#using loop to find max\n",
    "    max=nums[0]\n",
    "    max_idx=0\n",
    "    for i in range(0,len(nums)):\n",
    "        if(nums[i]>max):\n",
    "            max=nums[i]\n",
    "            max_idx=i\n",
    "    return max, max_idx\n",
    "\n",
    "def min_index_short(n): #using method\n",
    "    return min(n), n.index(min(n))\n",
    "\n",
    "def max_index_short(n):\n",
    "    return max(n), n.index(max(n))\n",
    "\n",
    "nums=[7,3,4,2,9,8,10,1,6,5]\n",
    "\n",
    "print(\"min : %d, idx : %d\"%min_index(nums))\n",
    "print(\"max : %d, idx : %d\"%max_index(nums))\n",
    "print(\"-----to short-----\")\n",
    "print(\"min : %d, idx : %d\"%min_index(nums))\n",
    "print(\"max : %d, idx : %d\"%max_index(nums))"
   ]
  }
 ],
 "metadata": {
  "hide_input": false,
  "kernelspec": {
   "display_name": "Python 3",
   "language": "python",
   "name": "python3"
  },
  "language_info": {
   "codemirror_mode": {
    "name": "ipython",
    "version": 3
   },
   "file_extension": ".py",
   "mimetype": "text/x-python",
   "name": "python",
   "nbconvert_exporter": "python",
   "pygments_lexer": "ipython3",
   "version": "3.7.6"
  }
 },
 "nbformat": 4,
 "nbformat_minor": 4
}
