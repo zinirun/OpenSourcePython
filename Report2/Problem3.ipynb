{
 "cells": [
  {
   "cell_type": "markdown",
   "metadata": {},
   "source": [
    "<h3>Problem 3</h3>\n",
    "<hr>\n",
    "<h4>\n",
    "    Design and implement a class Country that stores the information on countries such as\n",
    "nation name, capital city, population, and area. Then write a program that reads in a\n",
    "set of countries and prints"
   ]
  },
  {
   "cell_type": "code",
   "execution_count": 10,
   "metadata": {},
   "outputs": [
    {
     "name": "stdout",
     "output_type": "stream",
     "text": [
      "USA\n",
      "China\n",
      "Korea\n",
      "['Seoul', 'Washington', 'Beijing']\n"
     ]
    }
   ],
   "source": [
    "class Country:\n",
    "    def __init__(self, name, area, pop, den, cap):\n",
    "        self.name=name\n",
    "        self.area=area\n",
    "        self.pop=pop\n",
    "        self.den=den\n",
    "        self.cap=cap\n",
    "        \n",
    "def largest_area(c):\n",
    "    target = []\n",
    "    for _ in range(0, len(c)):\n",
    "        target.append(c[_].area)\n",
    "    return c[target.index(max(target))].name\n",
    "\n",
    "def largest_pop(c):\n",
    "    target = []\n",
    "    for _ in range(0, len(c)):\n",
    "        target.append(c[_].pop)\n",
    "    return c[target.index(max(target))].name\n",
    "\n",
    "def largest_den(c):\n",
    "    target = []\n",
    "    for _ in range(0, len(c)):\n",
    "        target.append(c[_].den)\n",
    "    return c[target.index(max(target))].name\n",
    "\n",
    "def capital(c):\n",
    "    cap = []\n",
    "    for _ in range(0, len(c)):\n",
    "        if(c[_].cap):\n",
    "            cap.append(c[_].cap)\n",
    "    return cap\n",
    "\n",
    "korea = Country('Korea',1003,5178,509,'Seoul')\n",
    "usa = Country('USA',98315,33100,35,'Washington')\n",
    "china = Country('China',96000,143932,148,'Beijing')\n",
    "\n",
    "print(largest_area([korea,usa,china]))\n",
    "print(largest_pop([korea,usa,china]))\n",
    "print(largest_den([korea,usa,china]))\n",
    "print(capital([korea,usa,china]))"
   ]
  }
 ],
 "metadata": {
  "hide_input": false,
  "kernelspec": {
   "display_name": "Python 3",
   "language": "python",
   "name": "python3"
  },
  "language_info": {
   "codemirror_mode": {
    "name": "ipython",
    "version": 3
   },
   "file_extension": ".py",
   "mimetype": "text/x-python",
   "name": "python",
   "nbconvert_exporter": "python",
   "pygments_lexer": "ipython3",
   "version": "3.7.6"
  }
 },
 "nbformat": 4,
 "nbformat_minor": 4
}
