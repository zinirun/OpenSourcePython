{
 "cells": [
  {
   "cell_type": "markdown",
   "metadata": {},
   "source": [
    "<h3>Problem 7</h3><hr><h4>\n",
    "Design and implement a class Letter for authoring a simple letter. In the constructor,\n",
    "supply the names of the sender and the recipient"
   ]
  },
  {
   "cell_type": "code",
   "execution_count": 5,
   "metadata": {},
   "outputs": [
    {
     "name": "stdout",
     "output_type": "stream",
     "text": [
      "Dear Hwang:\n",
      "\n",
      "first, line of the body\n",
      "second, line of the body\n",
      "third,  line of the body\n",
      "last,  line of the body\n",
      "\n",
      "Sincerely,\n",
      "Heo\n"
     ]
    }
   ],
   "source": [
    "class Letter:\n",
    "    text = \"\"\n",
    "    def __init__(self, letterfrom, letterto):\n",
    "        self.l_from = letterfrom\n",
    "        self.l_to = letterto\n",
    "    def addLine(self, line):\n",
    "        self.text += \"\\n\" + line\n",
    "    def get_text(self):\n",
    "        return \"Dear \" + self.l_to + \":\\n\" + self.text + \"\\n\\nSincerely,\\n\" + self.l_from\n",
    "\n",
    "letter = Letter(\"Heo\", \"Hwang\")\n",
    "letter.addLine(\"first line of the body\")\n",
    "letter.addLine(\"second, line of the body\")\n",
    "letter.addLine(\"third,  line of the body\")\n",
    "letter.addLine(\"last,  line of the body\")\n",
    "print(letter.get_text())"
   ]
  }
 ],
 "metadata": {
  "hide_input": false,
  "kernelspec": {
   "display_name": "Python 3",
   "language": "python",
   "name": "python3"
  },
  "language_info": {
   "codemirror_mode": {
    "name": "ipython",
    "version": 3
   },
   "file_extension": ".py",
   "mimetype": "text/x-python",
   "name": "python",
   "nbconvert_exporter": "python",
   "pygments_lexer": "ipython3",
   "version": "3.7.6"
  }
 },
 "nbformat": 4,
 "nbformat_minor": 4
}
