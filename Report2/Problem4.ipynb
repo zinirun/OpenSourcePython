{
 "cells": [
  {
   "cell_type": "markdown",
   "metadata": {},
   "source": [
    "<h3>Problem 4</h3>\n",
    "<hr>\n",
    "<h4>\n",
    "Based on object-oriented programming, design and implement each class for geometry\n",
    "objects on the next page.<br>\n",
    "1. Implement and test the class on each object<br>\n",
    "2. Place those classes into a geometry module. Then write a program that prints a\n",
    "result for the chosen object depending on a user’s values."
   ]
  },
  {
   "cell_type": "code",
   "execution_count": 4,
   "metadata": {},
   "outputs": [
    {
     "name": "stdout",
     "output_type": "stream",
     "text": [
      "3 * 4 rectangle area : 12.000000\n",
      "3 circle perimeter : 18.849556\n",
      "2,3,4 rectanglar volume : 24.000000\n"
     ]
    }
   ],
   "source": [
    "from math import pi\n",
    "\n",
    "class geometry_area:\n",
    "    def rectangle(self, a, b):\n",
    "        return a*b\n",
    "\n",
    "    def circle(self, r):\n",
    "        return r ** 2 * pi\n",
    "    # and other methods..\n",
    "\n",
    "class geometry_perimeter:\n",
    "    def rectangle(self, a, b):\n",
    "        return 2 * (a+b)\n",
    "    def circle(self, r):\n",
    "        return r * 2 * pi\n",
    "    #and other methods..\n",
    "\n",
    "class geometry_volume:\n",
    "    def rectanglar_box(self, a, b, c):\n",
    "        return a*b*c\n",
    "    def sphere(self, r):\n",
    "        return r ** 3 * 4/3 * pi\n",
    "    \n",
    "g_a = geometry_area()\n",
    "g_p = geometry_perimeter()\n",
    "g_v = geometry_volume()\n",
    "\n",
    "print(\"3 * 4 rectangle area : %f\" % g_a.rectangle(3,4))\n",
    "print(\"3 circle perimeter : %f\" % g_p.circle(3))\n",
    "print(\"2,3,4 rectanglar volume : %f\" % g_v.rectanglar_box(2,3,4))"
   ]
  }
 ],
 "metadata": {
  "hide_input": false,
  "kernelspec": {
   "display_name": "Python 3",
   "language": "python",
   "name": "python3"
  },
  "language_info": {
   "codemirror_mode": {
    "name": "ipython",
    "version": 3
   },
   "file_extension": ".py",
   "mimetype": "text/x-python",
   "name": "python",
   "nbconvert_exporter": "python",
   "pygments_lexer": "ipython3",
   "version": "3.7.6"
  }
 },
 "nbformat": 4,
 "nbformat_minor": 4
}
