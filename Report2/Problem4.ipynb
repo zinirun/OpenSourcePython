{
 "cells": [
  {
   "cell_type": "code",
   "execution_count": 1,
   "metadata": {},
   "outputs": [
    {
     "ename": "TypeError",
     "evalue": "can only concatenate str (not \"int\") to str",
     "output_type": "error",
     "traceback": [
      "\u001b[1;31m----------------------------------------------------------------------\u001b[0m",
      "\u001b[1;31mTypeError\u001b[0m                            Traceback (most recent call last)",
      "\u001b[1;32m<ipython-input-1-437b40823609>\u001b[0m in \u001b[0;36m<module>\u001b[1;34m\u001b[0m\n\u001b[0;32m     26\u001b[0m \u001b[0mg_v\u001b[0m \u001b[1;33m=\u001b[0m \u001b[0mgeometry_volume\u001b[0m\u001b[1;33m(\u001b[0m\u001b[1;33m)\u001b[0m\u001b[1;33m\u001b[0m\u001b[1;33m\u001b[0m\u001b[0m\n\u001b[0;32m     27\u001b[0m \u001b[1;33m\u001b[0m\u001b[0m\n\u001b[1;32m---> 28\u001b[1;33m \u001b[0mprint\u001b[0m\u001b[1;33m(\u001b[0m\u001b[1;34m\"3 * 4 rectangle area : \"\u001b[0m \u001b[1;33m+\u001b[0m \u001b[0mg_a\u001b[0m\u001b[1;33m.\u001b[0m\u001b[0mrectangle\u001b[0m\u001b[1;33m(\u001b[0m\u001b[1;36m3\u001b[0m\u001b[1;33m,\u001b[0m\u001b[1;36m4\u001b[0m\u001b[1;33m)\u001b[0m\u001b[1;33m)\u001b[0m\u001b[1;33m\u001b[0m\u001b[1;33m\u001b[0m\u001b[0m\n\u001b[0m\u001b[0;32m     29\u001b[0m \u001b[0mprint\u001b[0m\u001b[1;33m(\u001b[0m\u001b[1;34m\"3 circle perimeter : \"\u001b[0m \u001b[1;33m+\u001b[0m \u001b[0mg_p\u001b[0m\u001b[1;33m.\u001b[0m\u001b[0mcircle\u001b[0m\u001b[1;33m(\u001b[0m\u001b[1;36m3\u001b[0m\u001b[1;33m)\u001b[0m\u001b[1;33m)\u001b[0m\u001b[1;33m\u001b[0m\u001b[1;33m\u001b[0m\u001b[0m\n\u001b[0;32m     30\u001b[0m \u001b[0mprint\u001b[0m\u001b[1;33m(\u001b[0m\u001b[1;34m\"2,3,4 rectanglar volume\"\u001b[0m \u001b[1;33m+\u001b[0m \u001b[0mg_v\u001b[0m\u001b[1;33m.\u001b[0m\u001b[0mrectanglar_box\u001b[0m\u001b[1;33m(\u001b[0m\u001b[1;36m2\u001b[0m\u001b[1;33m,\u001b[0m\u001b[1;36m3\u001b[0m\u001b[1;33m,\u001b[0m\u001b[1;36m4\u001b[0m\u001b[1;33m)\u001b[0m\u001b[1;33m)\u001b[0m\u001b[1;33m\u001b[0m\u001b[1;33m\u001b[0m\u001b[0m\n",
      "\u001b[1;31mTypeError\u001b[0m: can only concatenate str (not \"int\") to str"
     ]
    }
   ],
   "source": [
    "from math import pi\n",
    "\n",
    "class geometry_area:\n",
    "    def rectangle(self, a, b):\n",
    "        return a*b\n",
    "\n",
    "    def circle(self, r):\n",
    "        return r ** 2 * pi\n",
    "    # and other methods..\n",
    "\n",
    "class geometry_perimeter:\n",
    "    def rectangle(self, a, b):\n",
    "        return 2 * (a+b)\n",
    "    def circle(self, r):\n",
    "        return r * 2 * pi\n",
    "    #and other methods..\n",
    "\n",
    "class geometry_volume:\n",
    "    def rectanglar_box(self, a, b, c):\n",
    "        return a*b*c\n",
    "    def sphere(self, r):\n",
    "        return r ** 3 * 4/3 * pi\n",
    "    \n",
    "g_a = geometry_area()\n",
    "g_p = geometry_perimeter()\n",
    "g_v = geometry_volume()\n",
    "\n",
    "print(\"3 * 4 rectangle area : \" + g_a.rectangle(3,4))\n",
    "print(\"3 circle perimeter : \" + g_p.circle(3))\n",
    "print(\"2,3,4 rectanglar volume\" + g_v.rectanglar_box(2,3,4))"
   ]
  },
  {
   "cell_type": "code",
   "execution_count": null,
   "metadata": {},
   "outputs": [],
   "source": []
  }
 ],
 "metadata": {
  "hide_input": false,
  "kernelspec": {
   "display_name": "Python 3",
   "language": "python",
   "name": "python3"
  },
  "language_info": {
   "codemirror_mode": {
    "name": "ipython",
    "version": 3
   },
   "file_extension": ".py",
   "mimetype": "text/x-python",
   "name": "python",
   "nbconvert_exporter": "python",
   "pygments_lexer": "ipython3",
   "version": "3.7.6"
  }
 },
 "nbformat": 4,
 "nbformat_minor": 4
}
